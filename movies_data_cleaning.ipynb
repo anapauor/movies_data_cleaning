{
 "cells": [
  {
   "cell_type": "markdown",
   "metadata": {},
   "source": [
    "## Pyspark SetUp"
   ]
  },
  {
   "cell_type": "code",
   "execution_count": 1,
   "metadata": {},
   "outputs": [
    {
     "name": "stdout",
     "output_type": "stream",
     "text": [
      "+--------+-----+--------------------+----------------+--------------------+--------------+----------------+----+-----+-------+--------------------+--------------------+\n",
      "|     _c0|  _c1|                 _c2|             _c3|                 _c4|           _c5|             _c6| _c7|  _c8|    _c9|                _c10|                _c11|\n",
      "+--------+-----+--------------------+----------------+--------------------+--------------+----------------+----+-----+-------+--------------------+--------------------+\n",
      "|70206826|Movie|    Victim of Beauty|     Roger Young|William Devane, J...| United States| October 1, 2011|1991|   NR| 93 min|   Dramas, Thrillers|A beauty pageant ...|\n",
      "|81029831|Movie|All's Well, End's...|     Vincent Kok|Louis Koo, Sandra...|     Hong Kong|November 9, 2018|2009|TV-14| 99 min|Comedies, Interna...|Bound by a family...|\n",
      "|80194289|Movie|Gabriel and the M...| Fellipe Barbosa|João Pedro Zappa,...|Brazil, France|November 9, 2018|2017|TV-MA|132 min|Dramas, Independe...|In a drama based ...|\n",
      "|80191219|Movie|            Lommbock|Christian Zübert|Lucas Gregorowicz...|       Germany|November 9, 2018|2017|TV-MA|106 min|Comedies, Interna...|After finding lov...|\n",
      "+--------+-----+--------------------+----------------+--------------------+--------------+----------------+----+-----+-------+--------------------+--------------------+\n",
      "only showing top 4 rows\n",
      "\n"
     ]
    }
   ],
   "source": [
    "import pyspark\n",
    "\n",
    "# Setup Spark session\n",
    "from pyspark.sql import SparkSession\n",
    "from pyspark.context import SparkContext\n",
    "from pyspark.sql import functions as F\n",
    "\n",
    "#Sspark = SparkSession.builder.master(\"local[*]\").getOrCreate()\n",
    "\n",
    "spark = SparkSession.builder.getOrCreate()\n",
    "\n",
    "\n",
    "# Read csv file wiith spark.read_csv()\n",
    "titles_path = \"./tmp/netflix_titles_dirty*.csv.gz\"\n",
    "df = spark.read.option(\"sep\", \"\\t\").option(\"header\", False).csv(titles_path)\n",
    "\n",
    "df.show(4)"
   ]
  },
  {
   "cell_type": "markdown",
   "metadata": {},
   "source": [
    "## Dataset preparation"
   ]
  },
  {
   "cell_type": "markdown",
   "metadata": {},
   "source": []
  },
  {
   "cell_type": "code",
   "execution_count": 3,
   "metadata": {},
   "outputs": [],
   "source": [
    "#  Copy dataset locally - descargará el archivo desde la URL proporcionada y lo guardará en la carpeta /tmp\n",
    "\n",
    "!curl -o ./tmp/netflix_titles_dirty_02.csv.gz https://github.com/datacamp/data-cleaning-with-pyspark-live-training/blob/master/data/netflix_titles_dirty_02.csv.gz?raw=True\n",
    "!curl -o ./tmp/netflix_titles_dirty_03.csv.gz https://github.com/datacamp/data-cleaning-with-pyspark-live-training/blob/master/data/netflix_titles_dirty_03.csv.gz?raw=True\n",
    "!curl -o ./tmp/netflix_titles_dirty_04.csv.gz https://github.com/datacamp/data-cleaning-with-pyspark-live-training/blob/master/data/netflix_titles_dirty_04.csv.gz?raw=True\n",
    "!curl -o ./tmp/netflix_titles_dirty_05.csv.gz https://github.com/datacamp/data-cleaning-with-pyspark-live-training/blob/master/data/netflix_titles_dirty_05.csv.gz?raw=True\n",
    "!curl -o ./tmp/netflix_titles_dirty_06.csv.gz https://github.com/datacamp/data-cleaning-with-pyspark-live-training/blob/master/data/netflix_titles_dirty_06.csv.gz?raw=True\n",
    "!curl -o ./tmp/netflix_titles_dirty_07.csv.gz https://github.com/datacamp/data-cleaning-with-pyspark-live-training/blob/master/data/netflix_titles_dirty_07.csv.gz?raw=True\n",
    "\n"
   ]
  },
  {
   "cell_type": "code",
   "execution_count": 4,
   "metadata": {},
   "outputs": [
    {
     "name": "stdout",
     "output_type": "stream",
     "text": [
      "+--------+\n",
      "|     _c0|\n",
      "+--------+\n",
      "|70206826|\n",
      "|81029831|\n",
      "|80194289|\n",
      "|80191219|\n",
      "|81005091|\n",
      "|80169786|\n",
      "|80190859|\n",
      "|80218634|\n",
      "|81022683|\n",
      "|80201862|\n",
      "|80114869|\n",
      "|80989924|\n",
      "|80057250|\n",
      "|70243445|\n",
      "|80201542|\n",
      "|81079723|\n",
      "|81003058|\n",
      "|80236993|\n",
      "|80057565|\n",
      "|81016857|\n",
      "+--------+\n",
      "only showing top 20 rows\n",
      "\n"
     ]
    }
   ],
   "source": [
    "from pyspark.sql import functions as F\n",
    "df.count()\n",
    "F.col(\"_c0\")\n",
    "# Select column with alias name\n",
    "df.select(\"_c0\").alias(\"r1\").show()\n",
    "\n"
   ]
  },
  {
   "cell_type": "markdown",
   "metadata": {},
   "source": [
    "#### Testing some pyspark stuff"
   ]
  },
  {
   "cell_type": "code",
   "execution_count": 5,
   "metadata": {},
   "outputs": [
    {
     "name": "stdout",
     "output_type": "stream",
     "text": [
      "Correct DF creation\n",
      "+-----+-----+----+\n",
      "|Col_a|Col_b|  _3|\n",
      "+-----+-----+----+\n",
      "| hola| None|  kd|\n",
      "|  jsd|    k|jfef|\n",
      "+-----+-----+----+\n",
      "\n",
      "DF creation with Alias columns\n",
      "+-----+-----+-----+-----+\n",
      "|Col_a|Col_b|   r1|   r2|\n",
      "+-----+-----+-----+-----+\n",
      "| hola| None|false|false|\n",
      "|  jsd|    k|false|false|\n",
      "+-----+-----+-----+-----+\n",
      "\n"
     ]
    }
   ],
   "source": [
    "# Creating dataFrame (row numbers must match)\n",
    "df_test = spark.createDataFrame([(\"hola\", \"None\", \"kd\"), (\"jsd\", \"k\", \"jfef\")], ['Col_a', 'Col_b']) # CORRECT \n",
    "print(\"Correct DF creation\")\n",
    "df_test.show()\n",
    "\n",
    "from pyspark.sql.functions import isnull\n",
    "\n",
    "# DF with Alias\n",
    "print(\"DF creation with Alias columns\")\n",
    "df_test_corre_alias = df_test.select(\"Col_a\", \"Col_b\", isnull(\"Col_a\").alias(\"r1\"), isnull(df_test.Col_b).alias(\"r2\"))\n",
    "df_test_corre_alias.show()\n",
    "# df_test_INCORR= spark.createDataFrame([(\"hola\", \"None\", \"kd\"), (\"jsd\", \"k\")]) # INCORRECT\n",
    "# df_test_INCORR.show()"
   ]
  },
  {
   "cell_type": "code",
   "execution_count": 6,
   "metadata": {},
   "outputs": [
    {
     "name": "stdout",
     "output_type": "stream",
     "text": [
      "Column<'Col_a'>\n",
      "Column<'Col_b'>\n",
      "Column<'_3'>\n"
     ]
    }
   ],
   "source": [
    "# Utiliza collect() para recuperar los datos como una lista de filas\n",
    "collected_data = df_test.collect()\n",
    "\n",
    "# Itera sobre la lista de filas\n",
    "for row in df_test:\n",
    "    print(row)"
   ]
  },
  {
   "cell_type": "code",
   "execution_count": 7,
   "metadata": {},
   "outputs": [
    {
     "name": "stdout",
     "output_type": "stream",
     "text": [
      "+----+---+---+\n",
      "|  f1| f1| f1|\n",
      "+----+---+---+\n",
      "|hola|  1| kd|\n",
      "| jsd|  3| jd|\n",
      "+----+---+---+\n",
      "\n"
     ]
    }
   ],
   "source": [
    "from pyspark.sql.types import StructType, StructField, IntegerType, StringType\n",
    "\n",
    "# (StructField(\"f1\", StringType(), True) == StructField(\"f1\", StringType(), True))\n",
    "\n",
    "# Use StructType function\n",
    "struct1 = StructType([StructField(\"f1\", StringType(), True),\n",
    "                      StructField(\"f1\", IntegerType(), True),\n",
    "                      StructField(\"f1\", StringType(), True)\n",
    "                      ])\n",
    "\n",
    "df_test2 = spark.createDataFrame([(\"hola\", 1, \"kd\"), (\"jsd\", 3, \"jd\")], struct1)\n",
    "df_test2.show()"
   ]
  },
  {
   "cell_type": "markdown",
   "metadata": {},
   "source": [
    "### Schema and nulls"
   ]
  },
  {
   "cell_type": "code",
   "execution_count": 9,
   "metadata": {},
   "outputs": [
    {
     "name": "stdout",
     "output_type": "stream",
     "text": [
      "root\n",
      " |-- _c0: string (nullable = true)\n",
      " |-- _c1: string (nullable = true)\n",
      " |-- _c2: string (nullable = true)\n",
      " |-- _c3: string (nullable = true)\n",
      " |-- _c4: string (nullable = true)\n",
      " |-- _c5: string (nullable = true)\n",
      " |-- _c6: string (nullable = true)\n",
      " |-- _c7: string (nullable = true)\n",
      " |-- _c8: string (nullable = true)\n",
      " |-- _c9: string (nullable = true)\n",
      " |-- _c10: string (nullable = true)\n",
      " |-- _c11: string (nullable = true)\n",
      "\n",
      "1999\n"
     ]
    },
    {
     "data": {
      "text/plain": [
       "2000"
      ]
     },
     "execution_count": 9,
     "metadata": {},
     "output_type": "execute_result"
    }
   ],
   "source": [
    "from pyspark.sql.functions import isnull\n",
    "\n",
    "# Check if is null, if it does it won't convert to int\n",
    "df._c0.cast(\"int\")\n",
    "df.printSchema()\n",
    "\n",
    "# count entries that are not null in first column\n",
    "print(df.select(isnull(\"_c0\").alias(\"isnull\")).filter(\"isnull = false\").count())\n",
    "\n",
    "\n",
    "# Determine how many rows have a column that converts properly to an integer value\n",
    "df.select(F.col(\"_c0\").cast(\"int\").isNotNull()).count()\n"
   ]
  },
  {
   "cell_type": "code",
   "execution_count": 10,
   "metadata": {},
   "outputs": [
    {
     "name": "stdout",
     "output_type": "stream",
     "text": [
      "+--------+-------+--------------------+----------------+--------------------+--------------+----------------+----+-----+--------+--------------------+--------------------+\n",
      "|     _c0|    _c1|                 _c2|             _c3|                 _c4|           _c5|             _c6| _c7|  _c8|     _c9|                _c10|                _c11|\n",
      "+--------+-------+--------------------+----------------+--------------------+--------------+----------------+----+-----+--------+--------------------+--------------------+\n",
      "|70206826|  Movie|    Victim of Beauty|     Roger Young|William Devane, J...| United States| October 1, 2011|1991|   NR|  93 min|   Dramas, Thrillers|A beauty pageant ...|\n",
      "|81029831|  Movie|All's Well, End's...|     Vincent Kok|Louis Koo, Sandra...|     Hong Kong|November 9, 2018|2009|TV-14|  99 min|Comedies, Interna...|Bound by a family...|\n",
      "|80194289|  Movie|Gabriel and the M...| Fellipe Barbosa|João Pedro Zappa,...|Brazil, France|November 9, 2018|2017|TV-MA| 132 min|Dramas, Independe...|In a drama based ...|\n",
      "|80191219|  Movie|            Lommbock|Christian Zübert|Lucas Gregorowicz...|       Germany|November 9, 2018|2017|TV-MA| 106 min|Comedies, Interna...|After finding lov...|\n",
      "|81005091|TV Show|            Love O2O|            NULL|Shuang Zheng, Yan...|         China|November 9, 2018|2016|TV-PG|1 Season|International TV ...|When a computer-s...|\n",
      "+--------+-------+--------------------+----------------+--------------------+--------------+----------------+----+-----+--------+--------------------+--------------------+\n",
      "only showing top 5 rows\n",
      "\n",
      "+--------------------+--------------------+--------------------+----+-----+----+----+----+----+----+----+----+\n",
      "|                 _c0|                 _c1|                 _c2| _c3|  _c4| _c5| _c6| _c7| _c8| _c9|_c10|_c11|\n",
      "+--------------------+--------------------+--------------------+----+-----+----+----+----+----+----+----+----+\n",
      "|               Movie|Harold and Lillia...|Harold Michelson,...|2015|TV-14|NULL|NULL|NULL|NULL|NULL|NULL|NULL|\n",
      "|# Site Montana en...|                NULL|                NULL|NULL| NULL|NULL|NULL|NULL|NULL|NULL|NULL|NULL|\n",
      "|    Black Snake Moan|                NULL|                NULL|NULL| NULL|NULL|NULL|NULL|NULL|NULL|NULL|NULL|\n",
      "|# To improving ex...|                NULL|                NULL|NULL| NULL|NULL|NULL|NULL|NULL|NULL|NULL|NULL|\n",
      "|# Stanford Linear...|                NULL|                NULL|NULL| NULL|NULL|NULL|NULL|NULL|NULL|NULL|NULL|\n",
      "+--------------------+--------------------+--------------------+----+-----+----+----+----+----+----+----+----+\n",
      "only showing top 5 rows\n",
      "\n"
     ]
    }
   ],
   "source": [
    "df_isnotnull = df.filter(F.col(\"_c0\").cast(\"int\").isNotNull())\n",
    "df_isnotnull.show(5)\n",
    "df_isnull = df.filter(F.col(\"_c0\").cast(\"int\").isNull())\n",
    "df_isnull.show(5)\n"
   ]
  },
  {
   "cell_type": "code",
   "execution_count": 11,
   "metadata": {},
   "outputs": [
    {
     "name": "stdout",
     "output_type": "stream",
     "text": [
      "+----+----+----+----+----+----+----+----+----+----+----+----+------+\n",
      "| _c0| _c1| _c2| _c3| _c4| _c5| _c6| _c7| _c8| _c9|_c10|_c11|isnull|\n",
      "+----+----+----+----+----+----+----+----+----+----+----+----+------+\n",
      "|NULL|TV-G|NULL|NULL|NULL|NULL|NULL|NULL|NULL|NULL|NULL|NULL|  true|\n",
      "+----+----+----+----+----+----+----+----+----+----+----+----+------+\n",
      "\n"
     ]
    }
   ],
   "source": [
    "# count entries that are not null in first column\n",
    "df_true = (df.select(\"*\", isnull(\"_c0\").alias(\"isnull\")).filter(\"isnull = true\"))\n",
    "df_true.show()\n"
   ]
  },
  {
   "cell_type": "code",
   "execution_count": 12,
   "metadata": {},
   "outputs": [
    {
     "name": "stdout",
     "output_type": "stream",
     "text": [
      "+----+----+-----+-----+\n",
      "|   a|   b|   r1|   r2|\n",
      "+----+----+-----+-----+\n",
      "|   1|NULL|false| true|\n",
      "|NULL|   2| true|false|\n",
      "+----+----+-----+-----+\n",
      "\n"
     ]
    }
   ],
   "source": [
    "from pyspark.sql.functions import isnull\n",
    "df_prueba = spark.createDataFrame([(1, None), (None, 2)], (\"a\", \"b\"))\n",
    "df_prueba.select(\"a\", \"b\", isnull(\"a\").alias(\"r1\"), isnull(\"b\").alias(\"r2\")).show()"
   ]
  },
  {
   "cell_type": "markdown",
   "metadata": {},
   "source": [
    "### Fixing entries starting \"#\""
   ]
  },
  {
   "cell_type": "code",
   "execution_count": 13,
   "metadata": {},
   "outputs": [
    {
     "name": "stdout",
     "output_type": "stream",
     "text": [
      "+--------------------+\n",
      "|                 _c0|\n",
      "+--------------------+\n",
      "|70206826\\tMovie\\t...|\n",
      "|81029831\\tMovie\\t...|\n",
      "|80194289\\tMovie\\t...|\n",
      "|80191219\\tMovie\\t...|\n",
      "|81005091\\tTV Show...|\n",
      "|80169786\\tTV Show...|\n",
      "|80190859\\tMovie\\t...|\n",
      "|80218634\\tTV Show...|\n",
      "|81022683\\tTV Show...|\n",
      "|80201862\\tTV Show...|\n",
      "+--------------------+\n",
      "only showing top 10 rows\n",
      "\n"
     ]
    },
    {
     "data": {
      "text/plain": [
       "2000"
      ]
     },
     "execution_count": 13,
     "metadata": {},
     "output_type": "execute_result"
    }
   ],
   "source": [
    "# Load the files into a DataFrame with a single column\n",
    "#titles_path = \"./tmp/netflix_titles_dirty*.csv.gz\"\n",
    "df_single_col = spark.read.option(\"sep\", \"{\").option(\"header\", False).csv(titles_path)\n",
    "df_single_col.show(10)\n",
    "df_single_col.count()"
   ]
  },
  {
   "cell_type": "code",
   "execution_count": 14,
   "metadata": {},
   "outputs": [
    {
     "name": "stdout",
     "output_type": "stream",
     "text": [
      "+--------------------+\n",
      "|                 _c0|\n",
      "+--------------------+\n",
      "|70206826\\tMovie\\t...|\n",
      "|81029831\\tMovie\\t...|\n",
      "|80194289\\tMovie\\t...|\n",
      "|80191219\\tMovie\\t...|\n",
      "|81005091\\tTV Show...|\n",
      "|80169786\\tTV Show...|\n",
      "|80190859\\tMovie\\t...|\n",
      "|80218634\\tTV Show...|\n",
      "|81022683\\tTV Show...|\n",
      "|80201862\\tTV Show...|\n",
      "|80114869\\tTV Show...|\n",
      "|80989924\\tTV Show...|\n",
      "|80057250\\tTV Show...|\n",
      "|70243445\\tMovie\\t...|\n",
      "|80201542\\tMovie\\t...|\n",
      "|81079723\\tMovie\\t...|\n",
      "|81003058\\tMovie\\t...|\n",
      "|80236993\\tMovie\\t...|\n",
      "|80057565\\tMovie\\t...|\n",
      "|81016857\\tTV Show...|\n",
      "+--------------------+\n",
      "only showing top 20 rows\n",
      "\n"
     ]
    }
   ],
   "source": [
    "# Filter DataFrame and show rows that starts with #\n",
    "df_filtered = df_single_col.filter(~F.col(\"_c0\").startswith(\"#\"))\n",
    "df_filtered.count()\n",
    "df_filtered.show()"
   ]
  },
  {
   "cell_type": "markdown",
   "metadata": {},
   "source": [
    "###  Column counts"
   ]
  },
  {
   "cell_type": "code",
   "execution_count": 15,
   "metadata": {},
   "outputs": [
    {
     "name": "stdout",
     "output_type": "stream",
     "text": [
      "+----------------------------------------------------------------------------------------------------------------------------------------------------------------------------------------------------------------------------------------------------------------------------------------------------------------------------------------------------------------------------------------------------------------------------------------------------------------------------------------------------------------------------------------+\n",
      "|palabras                                                                                                                                                                                                                                                                                                                                                                                                                                                                                                                                |\n",
      "+----------------------------------------------------------------------------------------------------------------------------------------------------------------------------------------------------------------------------------------------------------------------------------------------------------------------------------------------------------------------------------------------------------------------------------------------------------------------------------------------------------------------------------------+\n",
      "|[70206826, Movie, Victim of Beauty, Roger Young, William Devane, Jeri Ryan, Michele Abrams, Nick Searcy, Linda Pierce, J. Don Ferguson, Butch Slade, Joyce Bowden-Kirby, United States, October 1, 2011, 1991, NR, 93 min, Dramas, Thrillers, A beauty pageant winner is stalked by a serial killer who kidnaps her sister and torments her family in this thriller based on a shocking true story.]                                                                                                                                    |\n",
      "|[81029831, Movie, All's Well, End's Well (2009), Vincent Kok, Louis Koo, Sandra Ng Kwan Yue, Raymond Wong, Ronald Cheng, Yao Chen, Guo Tao, Heung Kam Lee, Chun Chau Ha, Miki Shum, Hong Kong, November 9, 2018, 2009, TV-14, 99 min, Comedies, International Movies, Romantic Movies, Bound by a family rule that forbids him from marrying until his stubborn sister gets hitched, a bachelor enlists the help of a love guru to woo her.]                                                                                            |\n",
      "|[80194289, Movie, Gabriel and the Mountain, Fellipe Barbosa, João Pedro Zappa, Caroline Abras, Alex Alembe, Leonard Siampala, Tony B. Lesika, John Goodluck, Rashidi Athuman, Toney Montana, George Ngandu, Rhosinah Sekeleti, Luke Mpata, Lewis Gadson, Manuela Pacq, Brazil, France, November 9, 2018, 2017, TV-MA, 132 min, Dramas, Independent Movies, International Movies, In a drama based on a true story, Brazilian backpacker Gabriel Buchmann spends his gap year exploring Africa. Why does he die in the Malawi mountains?]|\n",
      "|[80191219, Movie, Lommbock, Christian Zübert, Lucas Gregorowicz, Moritz Bleibtreu, Louis Hofmann, Wotan Wilke Möhring, Alexandra Neldel, Melanie Winigir, Mavie Hörbiger, Dar Salim, Elmar Wepper, Antoine Monot Jr., Germany, November 9, 2018, 2017, TV-MA, 106 min, Comedies, International Movies, After finding love in drug-free Dubai, Stefan returns to Germany to grab documents for his wedding. But old buddy Kai's bad habits complicate things.]                                                                           |\n",
      "|[81005091, TV Show, Love O2O, , Shuang Zheng, Yang Yang, Rachel Momo, Bai Yu, Zheng Yecheng, Zhang He, China, November 9, 2018, 2016, TV-PG, 1 Season, International TV Shows, Romantic TV Shows, TV Dramas, When a computer-science major gets dumped by her “husband” in an online role-playing game, she attracts a new proposal from the game’s top player.]                                                                                                                                                                        |\n",
      "+----------------------------------------------------------------------------------------------------------------------------------------------------------------------------------------------------------------------------------------------------------------------------------------------------------------------------------------------------------------------------------------------------------------------------------------------------------------------------------------------------------------------------------------+\n",
      "only showing top 5 rows\n",
      "\n"
     ]
    }
   ],
   "source": [
    "from pyspark.sql.functions import split\n",
    "\n",
    "df_single_splitted = df_filtered.select(split(F.col(\"_c0\"), \"\\t\").alias(\"palabras\"))\n",
    "df_single_splitted.show(5, truncate=False)"
   ]
  },
  {
   "cell_type": "code",
   "execution_count": 16,
   "metadata": {},
   "outputs": [
    {
     "name": "stdout",
     "output_type": "stream",
     "text": [
      "+--------------------+-----------------+\n",
      "|                 _c0|cantidad_palabras|\n",
      "+--------------------+-----------------+\n",
      "|80123950\\tTV Show...|               33|\n",
      "|70044693\\tMovie\\t...|               33|\n",
      "|80218819\\tTV Show...|               33|\n",
      "|81033086\\tMovie\\t...|               32|\n",
      "|80004534\\tMovie\\t...|               31|\n",
      "+--------------------+-----------------+\n",
      "only showing top 5 rows\n",
      "\n"
     ]
    }
   ],
   "source": [
    "# Add a column representing the total number of fields / columns\n",
    "\n",
    "from pyspark.sql.functions import size\n",
    "\n",
    "df_single_splitted = df_filtered.withColumn(\"cantidad_palabras\", size((split(F.col(\"_c0\"), \"\\t\"))))\n",
    "\n",
    "df_single_splitted = df_single_splitted.sort(df_single_splitted.cantidad_palabras.desc())\n",
    "df_single_splitted.show(5)\n"
   ]
  },
  {
   "cell_type": "code",
   "execution_count": 17,
   "metadata": {},
   "outputs": [
    {
     "data": {
      "text/plain": [
       "12"
      ]
     },
     "execution_count": 17,
     "metadata": {},
     "output_type": "execute_result"
    }
   ],
   "source": [
    "# Show rows with a fieldcount > 12\n",
    "\n",
    "df_single_splitted_above12 = df_single_splitted.filter(df_single_splitted.cantidad_palabras > 12)\n",
    "df_single_splitted_above12.count()\n",
    "\n"
   ]
  },
  {
   "cell_type": "code",
   "execution_count": 18,
   "metadata": {},
   "outputs": [
    {
     "data": {
      "text/plain": [
       "14"
      ]
     },
     "execution_count": 18,
     "metadata": {},
     "output_type": "execute_result"
    }
   ],
   "source": [
    "# Check for any rows with fewer than 12 columns\n",
    "\n",
    "df_single_splitted_below12 = df_single_splitted.filter(df_single_splitted.cantidad_palabras < 12)\n",
    "df_single_splitted_below12.count()"
   ]
  },
  {
   "cell_type": "code",
   "execution_count": 19,
   "metadata": {},
   "outputs": [
    {
     "data": {
      "text/plain": [
       "0"
      ]
     },
     "execution_count": 19,
     "metadata": {},
     "output_type": "execute_result"
    }
   ],
   "source": [
    "# Determine total number of \"bad\" rows\n",
    "\n",
    "df_filtered_char = df_filtered.filter(F.col(\"_c0\").startswith(\"#\"))\n",
    "df_filtered_char.count()"
   ]
  },
  {
   "cell_type": "code",
   "execution_count": 20,
   "metadata": {},
   "outputs": [
    {
     "data": {
      "text/plain": [
       "1960"
      ]
     },
     "execution_count": 20,
     "metadata": {},
     "output_type": "execute_result"
    }
   ],
   "source": [
    "# Set the dataframe without the bad rows \n",
    "# df_single_splitted = df_filtered.select(split(F.col(\"_c0\"), \"\\t\").alias(\"palabras\"))\n",
    "df_single_splitted_twelve = df_single_splitted.filter(df_single_splitted.cantidad_palabras == 12)\n",
    "df_single_splitted_twelve.count()"
   ]
  },
  {
   "cell_type": "code",
   "execution_count": 21,
   "metadata": {},
   "outputs": [
    {
     "name": "stdout",
     "output_type": "stream",
     "text": [
      "+--------------------+-----------------+--------------------+\n",
      "|                 _c0|cantidad_palabras|       cols_splitted|\n",
      "+--------------------+-----------------+--------------------+\n",
      "|70206826\\tMovie\\t...|               12|[70206826, Movie,...|\n",
      "|80142103\\tMovie\\t...|               12|[80142103, Movie,...|\n",
      "|81029831\\tMovie\\t...|               12|[81029831, Movie,...|\n",
      "|80179907\\tMovie\\t...|               12|[80179907, Movie,...|\n",
      "|80194289\\tMovie\\t...|               12|[80194289, Movie,...|\n",
      "+--------------------+-----------------+--------------------+\n",
      "only showing top 5 rows\n",
      "\n"
     ]
    }
   ],
   "source": [
    "df_single_splitted_twelve_final = df_single_splitted_twelve.withColumn(\"cols_splitted\", ((split(F.col(\"_c0\"), \"\\t\"))))\n",
    "df_single_splitted_twelve_final.show(5)"
   ]
  },
  {
   "cell_type": "markdown",
   "metadata": {},
   "source": [
    "### Arranging column Names and structures"
   ]
  },
  {
   "cell_type": "code",
   "execution_count": 22,
   "metadata": {},
   "outputs": [
    {
     "name": "stdout",
     "output_type": "stream",
     "text": [
      "+--------+-------+--------------------+----------------+--------------------+--------------+----------------+------------+------+--------+--------------------+--------------------+\n",
      "| show_id|   type|               title|        director|                cast|       country|      date_added|release_year|rating|duration|           listed_in|         description|\n",
      "+--------+-------+--------------------+----------------+--------------------+--------------+----------------+------------+------+--------+--------------------+--------------------+\n",
      "|70206826|  Movie|    Victim of Beauty|     Roger Young|William Devane, J...| United States| October 1, 2011|        1991|    NR|  93 min|   Dramas, Thrillers|A beauty pageant ...|\n",
      "|81029831|  Movie|All's Well, End's...|     Vincent Kok|Louis Koo, Sandra...|     Hong Kong|November 9, 2018|        2009| TV-14|  99 min|Comedies, Interna...|Bound by a family...|\n",
      "|80194289|  Movie|Gabriel and the M...| Fellipe Barbosa|João Pedro Zappa,...|Brazil, France|November 9, 2018|        2017| TV-MA| 132 min|Dramas, Independe...|In a drama based ...|\n",
      "|80191219|  Movie|            Lommbock|Christian Zübert|Lucas Gregorowicz...|       Germany|November 9, 2018|        2017| TV-MA| 106 min|Comedies, Interna...|After finding lov...|\n",
      "|81005091|TV Show|            Love O2O|                |Shuang Zheng, Yan...|         China|November 9, 2018|        2016| TV-PG|1 Season|International TV ...|When a computer-s...|\n",
      "+--------+-------+--------------------+----------------+--------------------+--------------+----------------+------------+------+--------+--------------------+--------------------+\n",
      "only showing top 5 rows\n",
      "\n"
     ]
    }
   ],
   "source": [
    "from pyspark.sql.types import StructType, StructField, IntegerType, StringType\n",
    "\n",
    "df_1 = (\n",
    "    df_single_splitted_twelve_final\n",
    "    .withColumn(\n",
    "        'show_id', df_single_splitted_twelve_final.cols_splitted.getItem(0).cast(IntegerType())\n",
    "\n",
    "        )\n",
    "    .withColumn(\n",
    "        'type', df_single_splitted_twelve_final.cols_splitted.getItem(1).cast(StringType())\n",
    "    )\n",
    "    .withColumn(\n",
    "        'title', df_single_splitted_twelve_final.cols_splitted.getItem(2).cast(StringType())\n",
    "    )\n",
    "        .withColumn(\n",
    "        'director', df_single_splitted_twelve_final.cols_splitted.getItem(3).cast(StringType())\n",
    "    )\n",
    "        .withColumn(\n",
    "        'cast', df_single_splitted_twelve_final.cols_splitted.getItem(4).cast(StringType())\n",
    "    )\n",
    "        .withColumn(\n",
    "        'country', df_single_splitted_twelve_final.cols_splitted.getItem(5).cast(StringType())\n",
    "    )\n",
    "        .withColumn(\n",
    "        'date_added', df_single_splitted_twelve_final.cols_splitted.getItem(6).cast(StringType())\n",
    "    )\n",
    "        .withColumn(\n",
    "        'release_year', df_single_splitted_twelve_final.cols_splitted.getItem(7).cast(StringType())\n",
    "    )\n",
    "        .withColumn(\n",
    "        'rating', df_single_splitted_twelve_final.cols_splitted.getItem(8).cast(StringType())\n",
    "    )\n",
    "        .withColumn(\n",
    "        'duration', df_single_splitted_twelve_final.cols_splitted.getItem(9).cast(StringType())\n",
    "    )\n",
    "        .withColumn(\n",
    "        'listed_in', df_single_splitted_twelve_final.cols_splitted.getItem(10).cast(StringType())\n",
    "    )\n",
    "        .withColumn(\n",
    "        'description', df_single_splitted_twelve_final.cols_splitted.getItem(11).cast(StringType())\n",
    "    )\n",
    "    )\n",
    "\n",
    "df_1 = df_1.drop(\"_c0\", \"cantidad_palabras\", \"cols_splitted\")\n",
    "df_1.show(5)\n"
   ]
  },
  {
   "cell_type": "code",
   "execution_count": 23,
   "metadata": {},
   "outputs": [
    {
     "name": "stdout",
     "output_type": "stream",
     "text": [
      "+-------+\n",
      "|   type|\n",
      "+-------+\n",
      "|TV Show|\n",
      "|  Movie|\n",
      "|       |\n",
      "+-------+\n",
      "\n"
     ]
    }
   ],
   "source": [
    "df_1.select(\"type\").distinct().show()\n"
   ]
  },
  {
   "cell_type": "code",
   "execution_count": 24,
   "metadata": {},
   "outputs": [
    {
     "name": "stdout",
     "output_type": "stream",
     "text": [
      "+-------+\n",
      "|   type|\n",
      "+-------+\n",
      "|TV Show|\n",
      "|  Movie|\n",
      "|       |\n",
      "+-------+\n",
      "\n"
     ]
    }
   ],
   "source": [
    "df_1.select(\"type\").filter(df_1.type == \"\").count()\n",
    "df_1_type = df_1.select(\"type\").filter(df_1.type != \"\")\n",
    "df_1.select(\"type\").distinct().show()\n"
   ]
  },
  {
   "cell_type": "code",
   "execution_count": 25,
   "metadata": {},
   "outputs": [
    {
     "name": "stdout",
     "output_type": "stream",
     "text": [
      "+-------+-------+\n",
      "|summary|   type|\n",
      "+-------+-------+\n",
      "|  count|   1960|\n",
      "|   mean|   NULL|\n",
      "| stddev|   NULL|\n",
      "|    min|       |\n",
      "|    max|TV Show|\n",
      "+-------+-------+\n",
      "\n"
     ]
    }
   ],
   "source": [
    "df_1.select(\"type\").describe().show()\n"
   ]
  },
  {
   "cell_type": "code",
   "execution_count": 26,
   "metadata": {},
   "outputs": [
    {
     "name": "stdout",
     "output_type": "stream",
     "text": [
      "+---+--------+---+------+\n",
      "| id|    name|age|output|\n",
      "+---+--------+---+------+\n",
      "|  1|John Doe| 21|    21|\n",
      "|  2|Don Sewe| 41|    82|\n",
      "+---+--------+---+------+\n",
      "\n"
     ]
    }
   ],
   "source": [
    "from pyspark.sql.functions import udf\n",
    "from pyspark.sql.types import IntegerType\n",
    "\n",
    "df_udf = spark.createDataFrame([(1, \"John Doe\", 21), (2, \"Don Sewe\", 41)], (\"id\", \"name\", \"age\"))\n",
    "\n",
    "@udf (returnType=IntegerType())\n",
    "def multiply(a, b):\n",
    "  if a == 3:\n",
    "    return 0\n",
    "  else:\n",
    "    return a*b\n",
    "\n",
    "df_udf1 = df_udf.withColumn('output', multiply(F.col('id'), F.col('age')))\n",
    "\n",
    "df_udf1.show()\n",
    "\n",
    "# this is same as using @udf:\n",
    "    # udfMultiply = udf(multiply, IntegerType()) para luego hacer\n",
    "    # df_1 = df_1.withColumn('output', udfMultiply(F.col('a'), F.col('b')))\n"
   ]
  },
  {
   "cell_type": "markdown",
   "metadata": {},
   "source": [
    "### Column Types Fix"
   ]
  },
  {
   "cell_type": "code",
   "execution_count": 27,
   "metadata": {},
   "outputs": [
    {
     "name": "stdout",
     "output_type": "stream",
     "text": [
      "+--------+-------+--------------------+--------------------+--------------------+--------------------+----------------+------------+------+--------+--------------------+--------------------+-----------+\n",
      "| show_id|   type|               title|            director|                cast|             country|      date_added|release_year|rating|duration|           listed_in|         description|derivedType|\n",
      "+--------+-------+--------------------+--------------------+--------------------+--------------------+----------------+------------+------+--------+--------------------+--------------------+-----------+\n",
      "|70206826|  Movie|    Victim of Beauty|         Roger Young|William Devane, J...|       United States| October 1, 2011|        1991|    NR|  93 min|   Dramas, Thrillers|A beauty pageant ...|      Movie|\n",
      "|81029831|  Movie|All's Well, End's...|         Vincent Kok|Louis Koo, Sandra...|           Hong Kong|November 9, 2018|        2009| TV-14|  99 min|Comedies, Interna...|Bound by a family...|      Movie|\n",
      "|80194289|  Movie|Gabriel and the M...|     Fellipe Barbosa|João Pedro Zappa,...|      Brazil, France|November 9, 2018|        2017| TV-MA| 132 min|Dramas, Independe...|In a drama based ...|      Movie|\n",
      "|80191219|  Movie|            Lommbock|    Christian Zübert|Lucas Gregorowicz...|             Germany|November 9, 2018|        2017| TV-MA| 106 min|Comedies, Interna...|After finding lov...|      Movie|\n",
      "|81005091|TV Show|            Love O2O|                    |Shuang Zheng, Yan...|               China|November 9, 2018|        2016| TV-PG|1 Season|International TV ...|When a computer-s...|    TV Show|\n",
      "|80169786|TV Show|      Medal of Honor|                    |Oliver Hudson, Be...|       United States|November 9, 2018|        2018| TV-MA|1 Season|Docuseries, TV Dr...|Honoring service ...|    TV Show|\n",
      "|80190859|  Movie|         Outlaw King|     David Mackenzie|Chris Pine, Aaron...|United Kingdom, U...|November 9, 2018|        2018|     R| 122 min|Action & Adventur...|In 14th-century S...|      Movie|\n",
      "|80218634|TV Show|         Super Drags|                    |Fernando Mendonça...|              Brazil|November 9, 2018|        2018| TV-MA|1 Season|International TV ...|In this adult ani...|    TV Show|\n",
      "|81022683|TV Show|   The Queen of Flow|                    |Carolina Ramírez,...|            Colombia|November 9, 2018|        2018| TV-14|1 Season|Crime TV Shows, I...|Seventeen years a...|    TV Show|\n",
      "|80201862|TV Show|            Westside|                    |                    |       United States|November 9, 2018|        2018| TV-MA|1 Season|          Reality TV|Nine struggling m...|    TV Show|\n",
      "|80114869|TV Show|                Case|                    |Steinunn Ólína Þo...|             Iceland|November 9, 2016|        2015| TV-MA|1 Season|Crime TV Shows, I...|A smart lawyer wh...|    TV Show|\n",
      "|80989924|TV Show|Greatest Events o...|                    |                    |      United Kingdom|November 8, 2019|        2019| TV-14|1 Season|British TV Shows,...|From the attack o...|    TV Show|\n",
      "|80057250|TV Show|  Green Eggs and Ham|                    |Michael Douglas, ...|United States, Un...|November 8, 2019|        2019| TV-Y7|1 Season|Kids' TV, TV Acti...|On a road trip to...|    TV Show|\n",
      "|70243445|  Movie|           Hit & Run|David Palmer, Dax...|Kristen Bell, Dax...|       United States|November 8, 2019|        2012|     R| 100 min|Action & Adventur...|Determined to get...|      Movie|\n",
      "|80201542|  Movie|         Let It Snow|        Luke Snellin|Isabela Moner, Sh...|       United States|November 8, 2019|        2019| PG-13|  93 min|Comedies, Dramas,...|A snowstorm hits ...|      Movie|\n",
      "|81079723|  Movie|      Paradise Beach|    Xavier Durringer|Sami Bouajila, Te...|              France|November 8, 2019|        2019| TV-MA|  94 min|Action & Adventur...|Mehdi gets out of...|      Movie|\n",
      "|81003058|  Movie|Hope Springs Eternal|      Jack C. Newell|Mia Rose Frampton...|       United States|November 8, 2018|        2018|    PG|  79 min|              Dramas|When a teen with ...|      Movie|\n",
      "|80236993|  Movie|    The Desert Bride|Cecilia Atán, Val...|Paulina García, C...|    Argentina, Chile|November 8, 2018|        2017| TV-14|  78 min|Dramas, Internati...|While traveling a...|      Movie|\n",
      "|80057565|  Movie|    The Sea of Trees|        Gus Van Sant|Matthew McConaugh...|       United States|November 8, 2018|        2015| PG-13| 111 min|              Dramas|A brooding Americ...|      Movie|\n",
      "|81016857|TV Show|           Transfers|                    |Arieh Worthalter,...|     France, Belgium|November 8, 2018|        2017| TV-MA|1 Season|Crime TV Shows, I...|After a boating a...|    TV Show|\n",
      "+--------+-------+--------------------+--------------------+--------------------+--------------------+----------------+------------+------+--------+--------------------+--------------------+-----------+\n",
      "only showing top 20 rows\n",
      "\n"
     ]
    }
   ],
   "source": [
    "from pyspark.sql.functions import udf\n",
    "from pyspark.sql.types import StringType\n",
    "\n",
    "\n",
    "@udf (returnType=StringType())\n",
    "def tv_or_movie(type, duration):\n",
    "    if type == \"Movie\" or type == \"TV Show\":\n",
    "        return type\n",
    "    elif duration.endswith('min'):\n",
    "        return \"Movie\"\n",
    "    else: \n",
    "        return \"TV Show\"\n",
    "    \n",
    "\n",
    "\n",
    "\n",
    "df_udf1_types = df_1.withColumn('derivedType', tv_or_movie(F.col('type'), F.col('duration')))\n",
    "\n",
    "df_udf1_types.show()"
   ]
  },
  {
   "cell_type": "code",
   "execution_count": 46,
   "metadata": {},
   "outputs": [],
   "source": [
    "df_udf1_types.filter(df_udf1_types.derivedType == \"\").count()\n",
    "df_udf1_types_new = df_udf1_types.drop(\"type\")\n",
    "df_udf1_types_new = df_udf1_types_new.withColumnRenamed(\"derivedType\", \"Type\")\n",
    "\n"
   ]
  },
  {
   "cell_type": "code",
   "execution_count": 29,
   "metadata": {},
   "outputs": [
    {
     "name": "stdout",
     "output_type": "stream",
     "text": [
      "+--------+--------------------+--------------------+--------------------+--------------------+----------------+------------+------+--------+--------------------+--------------------+-------+\n",
      "| show_id|               title|            director|                cast|             country|      date_added|release_year|rating|duration|           listed_in|         description|   Type|\n",
      "+--------+--------------------+--------------------+--------------------+--------------------+----------------+------------+------+--------+--------------------+--------------------+-------+\n",
      "|70206826|    Victim of Beauty|         Roger Young|William Devane, J...|       United States| October 1, 2011|        1991|    NR|  93 min|   Dramas, Thrillers|A beauty pageant ...|  Movie|\n",
      "|81029831|All's Well, End's...|         Vincent Kok|Louis Koo, Sandra...|           Hong Kong|November 9, 2018|        2009| TV-14|  99 min|Comedies, Interna...|Bound by a family...|  Movie|\n",
      "|80194289|Gabriel and the M...|     Fellipe Barbosa|João Pedro Zappa,...|      Brazil, France|November 9, 2018|        2017| TV-MA| 132 min|Dramas, Independe...|In a drama based ...|  Movie|\n",
      "|80191219|            Lommbock|    Christian Zübert|Lucas Gregorowicz...|             Germany|November 9, 2018|        2017| TV-MA| 106 min|Comedies, Interna...|After finding lov...|  Movie|\n",
      "|81005091|            Love O2O|                    |Shuang Zheng, Yan...|               China|November 9, 2018|        2016| TV-PG|1 Season|International TV ...|When a computer-s...|TV Show|\n",
      "|80169786|      Medal of Honor|                    |Oliver Hudson, Be...|       United States|November 9, 2018|        2018| TV-MA|1 Season|Docuseries, TV Dr...|Honoring service ...|TV Show|\n",
      "|80190859|         Outlaw King|     David Mackenzie|Chris Pine, Aaron...|United Kingdom, U...|November 9, 2018|        2018|     R| 122 min|Action & Adventur...|In 14th-century S...|  Movie|\n",
      "|80218634|         Super Drags|                    |Fernando Mendonça...|              Brazil|November 9, 2018|        2018| TV-MA|1 Season|International TV ...|In this adult ani...|TV Show|\n",
      "|81022683|   The Queen of Flow|                    |Carolina Ramírez,...|            Colombia|November 9, 2018|        2018| TV-14|1 Season|Crime TV Shows, I...|Seventeen years a...|TV Show|\n",
      "|80201862|            Westside|                    |                    |       United States|November 9, 2018|        2018| TV-MA|1 Season|          Reality TV|Nine struggling m...|TV Show|\n",
      "|80114869|                Case|                    |Steinunn Ólína Þo...|             Iceland|November 9, 2016|        2015| TV-MA|1 Season|Crime TV Shows, I...|A smart lawyer wh...|TV Show|\n",
      "|80989924|Greatest Events o...|                    |                    |      United Kingdom|November 8, 2019|        2019| TV-14|1 Season|British TV Shows,...|From the attack o...|TV Show|\n",
      "|80057250|  Green Eggs and Ham|                    |Michael Douglas, ...|United States, Un...|November 8, 2019|        2019| TV-Y7|1 Season|Kids' TV, TV Acti...|On a road trip to...|TV Show|\n",
      "|70243445|           Hit & Run|David Palmer, Dax...|Kristen Bell, Dax...|       United States|November 8, 2019|        2012|     R| 100 min|Action & Adventur...|Determined to get...|  Movie|\n",
      "|80201542|         Let It Snow|        Luke Snellin|Isabela Moner, Sh...|       United States|November 8, 2019|        2019| PG-13|  93 min|Comedies, Dramas,...|A snowstorm hits ...|  Movie|\n",
      "|81079723|      Paradise Beach|    Xavier Durringer|Sami Bouajila, Te...|              France|November 8, 2019|        2019| TV-MA|  94 min|Action & Adventur...|Mehdi gets out of...|  Movie|\n",
      "|81003058|Hope Springs Eternal|      Jack C. Newell|Mia Rose Frampton...|       United States|November 8, 2018|        2018|    PG|  79 min|              Dramas|When a teen with ...|  Movie|\n",
      "|80236993|    The Desert Bride|Cecilia Atán, Val...|Paulina García, C...|    Argentina, Chile|November 8, 2018|        2017| TV-14|  78 min|Dramas, Internati...|While traveling a...|  Movie|\n",
      "|80057565|    The Sea of Trees|        Gus Van Sant|Matthew McConaugh...|       United States|November 8, 2018|        2015| PG-13| 111 min|              Dramas|A brooding Americ...|  Movie|\n",
      "|81016857|           Transfers|                    |Arieh Worthalter,...|     France, Belgium|November 8, 2018|        2017| TV-MA|1 Season|Crime TV Shows, I...|After a boating a...|TV Show|\n",
      "+--------+--------------------+--------------------+--------------------+--------------------+----------------+------------+------+--------+--------------------+--------------------+-------+\n",
      "only showing top 20 rows\n",
      "\n"
     ]
    }
   ],
   "source": [
    "df_udf1_types_new.show()"
   ]
  },
  {
   "cell_type": "code",
   "execution_count": 30,
   "metadata": {},
   "outputs": [
    {
     "name": "stdout",
     "output_type": "stream",
     "text": [
      "+-------+\n",
      "|   Type|\n",
      "+-------+\n",
      "|TV Show|\n",
      "|  Movie|\n",
      "+-------+\n",
      "\n"
     ]
    },
    {
     "data": {
      "text/plain": [
       "1960"
      ]
     },
     "execution_count": 30,
     "metadata": {},
     "output_type": "execute_result"
    }
   ],
   "source": [
    "df_udf1_types_new.select(\"Type\").distinct().show()\n",
    "df_udf1_types_new.count()"
   ]
  },
  {
   "cell_type": "code",
   "execution_count": 31,
   "metadata": {},
   "outputs": [],
   "source": [
    "df_udf1_types_new.write.parquet(\"C:/Users/ana.orellano\\Documents/tests/tmp/parquet_folders\", mode=\"overwrite\")"
   ]
  },
  {
   "cell_type": "code",
   "execution_count": 32,
   "metadata": {},
   "outputs": [],
   "source": [
    "# Combine the data into a single file using the .coalesce(1) transformation. Spark normally keeps data in separate files to improve performance and bypass RAM issues.\n",
    "# df_udf1_types_new.coalesce(1).write.csv(\"C:/Users/ana.orellano\\Documents/tests/tmp/netflix_titles_cleaned_Coal\", sep='\\t', header=True)"
   ]
  },
  {
   "cell_type": "code",
   "execution_count": 44,
   "metadata": {},
   "outputs": [
    {
     "name": "stdout",
     "output_type": "stream",
     "text": [
      "+--------------------------------------------------------------------------------------------------------------------------------------------------------------------------------------------------------------------------------------------------------------------------------+\n",
      "|cast                                                                                                                                                                                                                                                                            |\n",
      "+--------------------------------------------------------------------------------------------------------------------------------------------------------------------------------------------------------------------------------------------------------------------------------+\n",
      "|Jena Malone, Douglas Smith, Ted Levine, Tamara Duarte, Kelly Pendygraft, Mark Sivertsen, Jon McLaren                                                                                                                                                                            |\n",
      "|William Devane, Jeri Ryan, Michele Abrams, Nick Searcy, Linda Pierce, J. Don Ferguson, Butch Slade, Joyce Bowden-Kirby                                                                                                                                                          |\n",
      "|Bridget Christie                                                                                                                                                                                                                                                                |\n",
      "|Louis Koo, Sandra Ng Kwan Yue, Raymond Wong, Ronald Cheng, Yao Chen, Guo Tao, Heung Kam Lee, Chun Chau Ha, Miki Shum                                                                                                                                                            |\n",
      "|Antonia Thomas, Luke Norris, Thea Petrie, Eileen Davies, Jonathan Hyde                                                                                                                                                                                                          |\n",
      "|João Pedro Zappa, Caroline Abras, Alex Alembe, Leonard Siampala, Tony B. Lesika, John Goodluck, Rashidi Athuman, Toney Montana, George Ngandu, Rhosinah Sekeleti, Luke Mpata, Lewis Gadson, Manuela Pacq                                                                        |\n",
      "|Steven Spielberg, Guillermo del Toro, Lawrence Kasdan, Francis Ford Coppola, Paul Greengrass, Meryl Streep                                                                                                                                                                      |\n",
      "|Lucas Gregorowicz, Moritz Bleibtreu, Louis Hofmann, Wotan Wilke Möhring, Alexandra Neldel, Melanie Winigir, Mavie Hörbiger, Dar Salim, Elmar Wepper, Antoine Monot Jr.                                                                                                          |\n",
      "|                                                                                                                                                                                                                                                                                |\n",
      "|Shuang Zheng, Yang Yang, Rachel Momo, Bai Yu, Zheng Yecheng, Zhang He                                                                                                                                                                                                           |\n",
      "|John Sessions                                                                                                                                                                                                                                                                   |\n",
      "|Oliver Hudson, Ben Schwartz, Paul Wesley, Aldis Hodge, Jonny Weston, Joseph Cross, Jake Abel, Derek Mio                                                                                                                                                                         |\n",
      "|Walter Huston, Dana Andrews                                                                                                                                                                                                                                                     |\n",
      "|Chris Pine, Aaron Taylor-Johnson, Florence Pugh, Billy Howle, Sam Spruell, Tony Curran, Callan Mulvey, James Cosmo, Stephen Dillane                                                                                                                                             |\n",
      "|Walter Huston                                                                                                                                                                                                                                                                   |\n",
      "|Fernando Mendonça, Sérgio Cantú, Wagner Follare, Pabllo Vittar, Silvetty Montilla, Rapha Vélez, Sylvia Salustti, Guilherme Briggs                                                                                                                                               |\n",
      "|Ben Whishaw, Jim Broadbent, Edward Holcroft, Samantha Spiro, Charlotte Rampling, Lorraine Ashbourne, David Hayman, Clarke Peters, Adrian Lester, Harriet Walter                                                                                                                 |\n",
      "|Carolina Ramírez, Carlos Torres, Andrés Sandoval, Adriana Arango, Mabel Moreno, Luis Alfredo Velasco, Pacho Rueda, Diana Wiswell, Mariana Garzón, Kiño, Sebastián Silva, Mariana Gómez, María José Vargas, Guillermo Blanco, Juan Manuel Restrepo, Alejandro Otero, David Ojalvo|\n",
      "|George McGavin                                                                                                                                                                                                                                                                  |\n",
      "|                                                                                                                                                                                                                                                                                |\n",
      "+--------------------------------------------------------------------------------------------------------------------------------------------------------------------------------------------------------------------------------------------------------------------------------+\n",
      "only showing top 20 rows\n",
      "\n"
     ]
    }
   ],
   "source": [
    "# df_cast = df_udf1_types_new.select(\"cast\")\n",
    "df_udf1_types_new.select(\"cast\").show(truncate=False)\n",
    "# df_cast.show(truncate=False)"
   ]
  },
  {
   "cell_type": "code",
   "execution_count": 45,
   "metadata": {},
   "outputs": [
    {
     "ename": "PythonException",
     "evalue": "\n  An exception was thrown from the Python worker. Please see the stack trace below.\nTraceback (most recent call last):\n  File \"C:\\Users\\ana.orellano\\AppData\\Local\\Temp\\ipykernel_19608\\4223040582.py\", line 7, in cast_to_array\n  File \"C:\\Spark\\Spark3\\python\\lib\\pyspark.zip\\pyspark\\sql\\utils.py\", line 174, in wrapped\n    return f(*args, **kwargs)\n  File \"C:\\Spark\\Spark3\\python\\lib\\pyspark.zip\\pyspark\\sql\\functions.py\", line 9355, in split\n    return _invoke_function(\"split\", _to_java_column(str), pattern, limit)\n  File \"C:\\Spark\\Spark3\\python\\lib\\pyspark.zip\\pyspark\\sql\\column.py\", line 63, in _to_java_column\n    jcol = _create_column_from_name(col)\n  File \"C:\\Spark\\Spark3\\python\\lib\\pyspark.zip\\pyspark\\sql\\column.py\", line 55, in _create_column_from_name\n    sc = get_active_spark_context()\n  File \"C:\\Spark\\Spark3\\python\\lib\\pyspark.zip\\pyspark\\sql\\utils.py\", line 248, in get_active_spark_context\n    raise RuntimeError(\"SparkContext or SparkSession should be created first.\")\nRuntimeError: SparkContext or SparkSession should be created first.\n",
     "output_type": "error",
     "traceback": [
      "\u001b[1;31m---------------------------------------------------------------------------\u001b[0m",
      "\u001b[1;31mPythonException\u001b[0m                           Traceback (most recent call last)",
      "\u001b[1;32mc:\\Users\\ana.orellano\\Documents\\tests\\test.ipynb Cell 35\u001b[0m line \u001b[0;36m5\n\u001b[0;32m      <a href='vscode-notebook-cell:/c%3A/Users/ana.orellano/Documents/tests/test.ipynb#X46sZmlsZQ%3D%3D?line=0'>1</a>\u001b[0m \u001b[39m# df_udf1_types_new = df_udf1_types_new.withColumn(\"array_cast\", )\u001b[39;00m\n\u001b[0;32m      <a href='vscode-notebook-cell:/c%3A/Users/ana.orellano/Documents/tests/test.ipynb#X46sZmlsZQ%3D%3D?line=2'>3</a>\u001b[0m df_udf_cast \u001b[39m=\u001b[39m df_udf1_types_new\u001b[39m.\u001b[39mwithColumn(\u001b[39m\"\u001b[39m\u001b[39mcast_array\u001b[39m\u001b[39m\"\u001b[39m, cast_to_array(F\u001b[39m.\u001b[39mcol(\u001b[39m'\u001b[39m\u001b[39mcast\u001b[39m\u001b[39m'\u001b[39m))\u001b[39m.\u001b[39mcast(ArrayType(StringType())))\n\u001b[1;32m----> <a href='vscode-notebook-cell:/c%3A/Users/ana.orellano/Documents/tests/test.ipynb#X46sZmlsZQ%3D%3D?line=4'>5</a>\u001b[0m df_udf_cast\u001b[39m.\u001b[39;49mshow()\n",
      "File \u001b[1;32m~\\AppData\\Local\\Packages\\PythonSoftwareFoundation.Python.3.10_qbz5n2kfra8p0\\LocalCache\\local-packages\\Python310\\site-packages\\pyspark\\sql\\dataframe.py:899\u001b[0m, in \u001b[0;36mDataFrame.show\u001b[1;34m(self, n, truncate, vertical)\u001b[0m\n\u001b[0;32m    893\u001b[0m     \u001b[39mraise\u001b[39;00m PySparkTypeError(\n\u001b[0;32m    894\u001b[0m         error_class\u001b[39m=\u001b[39m\u001b[39m\"\u001b[39m\u001b[39mNOT_BOOL\u001b[39m\u001b[39m\"\u001b[39m,\n\u001b[0;32m    895\u001b[0m         message_parameters\u001b[39m=\u001b[39m{\u001b[39m\"\u001b[39m\u001b[39marg_name\u001b[39m\u001b[39m\"\u001b[39m: \u001b[39m\"\u001b[39m\u001b[39mvertical\u001b[39m\u001b[39m\"\u001b[39m, \u001b[39m\"\u001b[39m\u001b[39marg_type\u001b[39m\u001b[39m\"\u001b[39m: \u001b[39mtype\u001b[39m(vertical)\u001b[39m.\u001b[39m\u001b[39m__name__\u001b[39m},\n\u001b[0;32m    896\u001b[0m     )\n\u001b[0;32m    898\u001b[0m \u001b[39mif\u001b[39;00m \u001b[39misinstance\u001b[39m(truncate, \u001b[39mbool\u001b[39m) \u001b[39mand\u001b[39;00m truncate:\n\u001b[1;32m--> 899\u001b[0m     \u001b[39mprint\u001b[39m(\u001b[39mself\u001b[39;49m\u001b[39m.\u001b[39;49m_jdf\u001b[39m.\u001b[39;49mshowString(n, \u001b[39m20\u001b[39;49m, vertical))\n\u001b[0;32m    900\u001b[0m \u001b[39melse\u001b[39;00m:\n\u001b[0;32m    901\u001b[0m     \u001b[39mtry\u001b[39;00m:\n",
      "File \u001b[1;32m~\\AppData\\Local\\Packages\\PythonSoftwareFoundation.Python.3.10_qbz5n2kfra8p0\\LocalCache\\local-packages\\Python310\\site-packages\\py4j\\java_gateway.py:1322\u001b[0m, in \u001b[0;36mJavaMember.__call__\u001b[1;34m(self, *args)\u001b[0m\n\u001b[0;32m   1316\u001b[0m command \u001b[39m=\u001b[39m proto\u001b[39m.\u001b[39mCALL_COMMAND_NAME \u001b[39m+\u001b[39m\\\n\u001b[0;32m   1317\u001b[0m     \u001b[39mself\u001b[39m\u001b[39m.\u001b[39mcommand_header \u001b[39m+\u001b[39m\\\n\u001b[0;32m   1318\u001b[0m     args_command \u001b[39m+\u001b[39m\\\n\u001b[0;32m   1319\u001b[0m     proto\u001b[39m.\u001b[39mEND_COMMAND_PART\n\u001b[0;32m   1321\u001b[0m answer \u001b[39m=\u001b[39m \u001b[39mself\u001b[39m\u001b[39m.\u001b[39mgateway_client\u001b[39m.\u001b[39msend_command(command)\n\u001b[1;32m-> 1322\u001b[0m return_value \u001b[39m=\u001b[39m get_return_value(\n\u001b[0;32m   1323\u001b[0m     answer, \u001b[39mself\u001b[39;49m\u001b[39m.\u001b[39;49mgateway_client, \u001b[39mself\u001b[39;49m\u001b[39m.\u001b[39;49mtarget_id, \u001b[39mself\u001b[39;49m\u001b[39m.\u001b[39;49mname)\n\u001b[0;32m   1325\u001b[0m \u001b[39mfor\u001b[39;00m temp_arg \u001b[39min\u001b[39;00m temp_args:\n\u001b[0;32m   1326\u001b[0m     \u001b[39mif\u001b[39;00m \u001b[39mhasattr\u001b[39m(temp_arg, \u001b[39m\"\u001b[39m\u001b[39m_detach\u001b[39m\u001b[39m\"\u001b[39m):\n",
      "File \u001b[1;32m~\\AppData\\Local\\Packages\\PythonSoftwareFoundation.Python.3.10_qbz5n2kfra8p0\\LocalCache\\local-packages\\Python310\\site-packages\\pyspark\\errors\\exceptions\\captured.py:175\u001b[0m, in \u001b[0;36mcapture_sql_exception.<locals>.deco\u001b[1;34m(*a, **kw)\u001b[0m\n\u001b[0;32m    171\u001b[0m converted \u001b[39m=\u001b[39m convert_exception(e\u001b[39m.\u001b[39mjava_exception)\n\u001b[0;32m    172\u001b[0m \u001b[39mif\u001b[39;00m \u001b[39mnot\u001b[39;00m \u001b[39misinstance\u001b[39m(converted, UnknownException):\n\u001b[0;32m    173\u001b[0m     \u001b[39m# Hide where the exception came from that shows a non-Pythonic\u001b[39;00m\n\u001b[0;32m    174\u001b[0m     \u001b[39m# JVM exception message.\u001b[39;00m\n\u001b[1;32m--> 175\u001b[0m     \u001b[39mraise\u001b[39;00m converted \u001b[39mfrom\u001b[39;00m \u001b[39mNone\u001b[39;00m\n\u001b[0;32m    176\u001b[0m \u001b[39melse\u001b[39;00m:\n\u001b[0;32m    177\u001b[0m     \u001b[39mraise\u001b[39;00m\n",
      "\u001b[1;31mPythonException\u001b[0m: \n  An exception was thrown from the Python worker. Please see the stack trace below.\nTraceback (most recent call last):\n  File \"C:\\Users\\ana.orellano\\AppData\\Local\\Temp\\ipykernel_19608\\4223040582.py\", line 7, in cast_to_array\n  File \"C:\\Spark\\Spark3\\python\\lib\\pyspark.zip\\pyspark\\sql\\utils.py\", line 174, in wrapped\n    return f(*args, **kwargs)\n  File \"C:\\Spark\\Spark3\\python\\lib\\pyspark.zip\\pyspark\\sql\\functions.py\", line 9355, in split\n    return _invoke_function(\"split\", _to_java_column(str), pattern, limit)\n  File \"C:\\Spark\\Spark3\\python\\lib\\pyspark.zip\\pyspark\\sql\\column.py\", line 63, in _to_java_column\n    jcol = _create_column_from_name(col)\n  File \"C:\\Spark\\Spark3\\python\\lib\\pyspark.zip\\pyspark\\sql\\column.py\", line 55, in _create_column_from_name\n    sc = get_active_spark_context()\n  File \"C:\\Spark\\Spark3\\python\\lib\\pyspark.zip\\pyspark\\sql\\utils.py\", line 248, in get_active_spark_context\n    raise RuntimeError(\"SparkContext or SparkSession should be created first.\")\nRuntimeError: SparkContext or SparkSession should be created first.\n"
     ]
    }
   ],
   "source": [
    "# df_udf1_types_new = df_udf1_types_new.withColumn(\"array_cast\", )\n",
    "\n",
    "df_udf_cast = df_udf1_types_new.withColumn(\"cast_array\", cast_to_array(F.col('cast')).cast(ArrayType(StringType())))\n",
    "\n",
    "df_udf_cast.show()"
   ]
  },
  {
   "cell_type": "code",
   "execution_count": 35,
   "metadata": {},
   "outputs": [],
   "source": [
    "from pyspark.sql.functions import udf\n",
    "from pyspark.sql.types import ArrayType\n",
    "\n",
    "\n",
    "@udf (returnType=ArrayType(StringType()))\n",
    "def cast_to_array(cast_str):\n",
    "   return split(cast_str, \", \")\n",
    "    \n",
    "\n",
    "\n",
    "# df_udf_cast = df_1.withColumn('derivedType', tv_or_movie(F.col('type'), F.col('duration')))\n",
    "\n"
   ]
  },
  {
   "cell_type": "code",
   "execution_count": null,
   "metadata": {},
   "outputs": [],
   "source": [
    "# Crear un DataFrame (reemplaza esto con tu propio DataFrame)\n",
    "data = [(\"William Devane, Jeri Ryan, Michele Abrams\",),\n",
    "        (\"Jena Malone, Douglas Smith, Ted Levine\",),\n",
    "        (\"Louis Koo, Sandra Ng Kwan Yue, Raymond Wong\",)]\n",
    "\n",
    "columns = [\"cast\"]\n",
    "df_array_test = spark.createDataFrame(data, columns)\n",
    "\n",
    "df_array_test = df_array_test.withColumn(\"cast_array\", cast_to_array(F.col('cast'))) #.cast(ArrayType(StringType())))\n"
   ]
  },
  {
   "cell_type": "code",
   "execution_count": 42,
   "metadata": {},
   "outputs": [
    {
     "data": {
      "text/plain": [
       "3"
      ]
     },
     "execution_count": 42,
     "metadata": {},
     "output_type": "execute_result"
    }
   ],
   "source": [
    "df_array_test.count()\n"
   ]
  },
  {
   "cell_type": "code",
   "execution_count": 48,
   "metadata": {},
   "outputs": [
    {
     "name": "stdout",
     "output_type": "stream",
     "text": [
      "+--------+--------------------+--------------------+--------------------+--------------------+----------------+------------+------+--------+--------------------+--------------------+-------+--------------------+\n",
      "| show_id|               title|            director|                cast|             country|      date_added|release_year|rating|duration|           listed_in|         description|   Type|          cast_array|\n",
      "+--------+--------------------+--------------------+--------------------+--------------------+----------------+------------+------+--------+--------------------+--------------------+-------+--------------------+\n",
      "|70206826|    Victim of Beauty|         Roger Young|William Devane, J...|       United States| October 1, 2011|        1991|    NR|  93 min|   Dramas, Thrillers|A beauty pageant ...|  Movie|[William Devane, ...|\n",
      "|81029831|All's Well, End's...|         Vincent Kok|Louis Koo, Sandra...|           Hong Kong|November 9, 2018|        2009| TV-14|  99 min|Comedies, Interna...|Bound by a family...|  Movie|[Louis Koo, Sandr...|\n",
      "|80194289|Gabriel and the M...|     Fellipe Barbosa|João Pedro Zappa,...|      Brazil, France|November 9, 2018|        2017| TV-MA| 132 min|Dramas, Independe...|In a drama based ...|  Movie|[João Pedro Zappa...|\n",
      "|80191219|            Lommbock|    Christian Zübert|Lucas Gregorowicz...|             Germany|November 9, 2018|        2017| TV-MA| 106 min|Comedies, Interna...|After finding lov...|  Movie|[Lucas Gregorowic...|\n",
      "|81005091|            Love O2O|                    |Shuang Zheng, Yan...|               China|November 9, 2018|        2016| TV-PG|1 Season|International TV ...|When a computer-s...|TV Show|[Shuang Zheng, Ya...|\n",
      "|80169786|      Medal of Honor|                    |Oliver Hudson, Be...|       United States|November 9, 2018|        2018| TV-MA|1 Season|Docuseries, TV Dr...|Honoring service ...|TV Show|[Oliver Hudson, B...|\n",
      "|80190859|         Outlaw King|     David Mackenzie|Chris Pine, Aaron...|United Kingdom, U...|November 9, 2018|        2018|     R| 122 min|Action & Adventur...|In 14th-century S...|  Movie|[Chris Pine, Aaro...|\n",
      "|80218634|         Super Drags|                    |Fernando Mendonça...|              Brazil|November 9, 2018|        2018| TV-MA|1 Season|International TV ...|In this adult ani...|TV Show|[Fernando Mendonç...|\n",
      "|81022683|   The Queen of Flow|                    |Carolina Ramírez,...|            Colombia|November 9, 2018|        2018| TV-14|1 Season|Crime TV Shows, I...|Seventeen years a...|TV Show|[Carolina Ramírez...|\n",
      "|80201862|            Westside|                    |                    |       United States|November 9, 2018|        2018| TV-MA|1 Season|          Reality TV|Nine struggling m...|TV Show|                  []|\n",
      "|80114869|                Case|                    |Steinunn Ólína Þo...|             Iceland|November 9, 2016|        2015| TV-MA|1 Season|Crime TV Shows, I...|A smart lawyer wh...|TV Show|[Steinunn Ólína Þ...|\n",
      "|80989924|Greatest Events o...|                    |                    |      United Kingdom|November 8, 2019|        2019| TV-14|1 Season|British TV Shows,...|From the attack o...|TV Show|                  []|\n",
      "|80057250|  Green Eggs and Ham|                    |Michael Douglas, ...|United States, Un...|November 8, 2019|        2019| TV-Y7|1 Season|Kids' TV, TV Acti...|On a road trip to...|TV Show|[Michael Douglas,...|\n",
      "|70243445|           Hit & Run|David Palmer, Dax...|Kristen Bell, Dax...|       United States|November 8, 2019|        2012|     R| 100 min|Action & Adventur...|Determined to get...|  Movie|[Kristen Bell, Da...|\n",
      "|80201542|         Let It Snow|        Luke Snellin|Isabela Moner, Sh...|       United States|November 8, 2019|        2019| PG-13|  93 min|Comedies, Dramas,...|A snowstorm hits ...|  Movie|[Isabela Moner, S...|\n",
      "|81079723|      Paradise Beach|    Xavier Durringer|Sami Bouajila, Te...|              France|November 8, 2019|        2019| TV-MA|  94 min|Action & Adventur...|Mehdi gets out of...|  Movie|[Sami Bouajila, T...|\n",
      "|81003058|Hope Springs Eternal|      Jack C. Newell|Mia Rose Frampton...|       United States|November 8, 2018|        2018|    PG|  79 min|              Dramas|When a teen with ...|  Movie|[Mia Rose Frampto...|\n",
      "|80236993|    The Desert Bride|Cecilia Atán, Val...|Paulina García, C...|    Argentina, Chile|November 8, 2018|        2017| TV-14|  78 min|Dramas, Internati...|While traveling a...|  Movie|[Paulina García, ...|\n",
      "|80057565|    The Sea of Trees|        Gus Van Sant|Matthew McConaugh...|       United States|November 8, 2018|        2015| PG-13| 111 min|              Dramas|A brooding Americ...|  Movie|[Matthew McConaug...|\n",
      "|81016857|           Transfers|                    |Arieh Worthalter,...|     France, Belgium|November 8, 2018|        2017| TV-MA|1 Season|Crime TV Shows, I...|After a boating a...|TV Show|[Arieh Worthalter...|\n",
      "+--------+--------------------+--------------------+--------------------+--------------------+----------------+------------+------+--------+--------------------+--------------------+-------+--------------------+\n",
      "only showing top 20 rows\n",
      "\n"
     ]
    },
    {
     "name": "stderr",
     "output_type": "stream",
     "text": [
      "----------------------------------------\n",
      "Exception occurred during processing of request from ('127.0.0.1', 55891)\n",
      "Traceback (most recent call last):\n",
      "  File \"C:\\Program Files\\WindowsApps\\PythonSoftwareFoundation.Python.3.10_3.10.3056.0_x64__qbz5n2kfra8p0\\lib\\socketserver.py\", line 316, in _handle_request_noblock\n",
      "    self.process_request(request, client_address)\n",
      "  File \"C:\\Program Files\\WindowsApps\\PythonSoftwareFoundation.Python.3.10_3.10.3056.0_x64__qbz5n2kfra8p0\\lib\\socketserver.py\", line 347, in process_request\n",
      "    self.finish_request(request, client_address)\n",
      "  File \"C:\\Program Files\\WindowsApps\\PythonSoftwareFoundation.Python.3.10_3.10.3056.0_x64__qbz5n2kfra8p0\\lib\\socketserver.py\", line 360, in finish_request\n",
      "    self.RequestHandlerClass(request, client_address, self)\n",
      "  File \"C:\\Program Files\\WindowsApps\\PythonSoftwareFoundation.Python.3.10_3.10.3056.0_x64__qbz5n2kfra8p0\\lib\\socketserver.py\", line 747, in __init__\n",
      "    self.handle()\n",
      "  File \"C:\\Users\\ana.orellano\\AppData\\Local\\Packages\\PythonSoftwareFoundation.Python.3.10_qbz5n2kfra8p0\\LocalCache\\local-packages\\Python310\\site-packages\\pyspark\\accumulators.py\", line 281, in handle\n",
      "    poll(accum_updates)\n",
      "  File \"C:\\Users\\ana.orellano\\AppData\\Local\\Packages\\PythonSoftwareFoundation.Python.3.10_qbz5n2kfra8p0\\LocalCache\\local-packages\\Python310\\site-packages\\pyspark\\accumulators.py\", line 253, in poll\n",
      "    if func():\n",
      "  File \"C:\\Users\\ana.orellano\\AppData\\Local\\Packages\\PythonSoftwareFoundation.Python.3.10_qbz5n2kfra8p0\\LocalCache\\local-packages\\Python310\\site-packages\\pyspark\\accumulators.py\", line 257, in accum_updates\n",
      "    num_updates = read_int(self.rfile)\n",
      "  File \"C:\\Users\\ana.orellano\\AppData\\Local\\Packages\\PythonSoftwareFoundation.Python.3.10_qbz5n2kfra8p0\\LocalCache\\local-packages\\Python310\\site-packages\\pyspark\\serializers.py\", line 594, in read_int\n",
      "    length = stream.read(4)\n",
      "  File \"C:\\Program Files\\WindowsApps\\PythonSoftwareFoundation.Python.3.10_3.10.3056.0_x64__qbz5n2kfra8p0\\lib\\socket.py\", line 705, in readinto\n",
      "    return self._sock.recv_into(b)\n",
      "ConnectionResetError: [WinError 10054] An existing connection was forcibly closed by the remote host\n",
      "----------------------------------------\n"
     ]
    }
   ],
   "source": [
    "# from pyspark.sql import SparkSession\n",
    "# from pyspark.sql.functions import split\n",
    "\n",
    "# # Inicializar una sesión de Spark\n",
    "# spark = SparkSession.builder.appName(\"MiAplicacion\").getOrCreate()\n",
    "\n",
    "# # Crear un DataFrame\n",
    "# data = [(\"William Devane, Jeri Ryan, Michele Abrams\",),\n",
    "#         (\"Jena Malone, Douglas Smith, Ted Levine\",),\n",
    "#         (\"Louis Koo, Sandra Ng Kwan Yue, Raymond Wong\",)]\n",
    "\n",
    "# columns = [\"cast\"]\n",
    "# df_array_test = spark.createDataFrame(data, columns)\n",
    "\n",
    "# Aplicar la función split\n",
    "df_array_test = df_udf1_types_new.withColumn(\"cast_array\", split(df_udf1_types_new[\"cast\"], \", \"))\n",
    "\n",
    "# Mostrar el DataFrame resultante\n",
    "df_array_test.show()\n"
   ]
  }
 ],
 "metadata": {
  "kernelspec": {
   "display_name": "Python 3",
   "language": "python",
   "name": "python3"
  },
  "language_info": {
   "codemirror_mode": {
    "name": "ipython",
    "version": 3
   },
   "file_extension": ".py",
   "mimetype": "text/x-python",
   "name": "python",
   "nbconvert_exporter": "python",
   "pygments_lexer": "ipython3",
   "version": "3.10.11"
  },
  "orig_nbformat": 4
 },
 "nbformat": 4,
 "nbformat_minor": 2
}
